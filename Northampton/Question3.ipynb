{
 "cells": [
  {
   "cell_type": "code",
   "execution_count": 1,
   "metadata": {},
   "outputs": [],
   "source": [
    "# Importing Pandas for Dataframes\n",
    "import pandas as pd"
   ]
  },
  {
   "cell_type": "code",
   "execution_count": 2,
   "metadata": {},
   "outputs": [],
   "source": [
    "# Initialising and Declaring the dictionaries which will be used for creating the dataframe\n",
    "# Note how we created the dictionaries with the same keys. This means that the the countries will be used to pivot on\n",
    "population = {'England': 55_550_138, 'Scotland': 5_466_000, 'Wales': 3_169_586, 'Northern Ireland': 1_895_510}\n",
    "area = {'England': 130_309, 'Scotland': 77_911, 'Wales': 20_736, 'Northern Ireland': 13_793}"
   ]
  },
  {
   "cell_type": "code",
   "execution_count": 3,
   "metadata": {},
   "outputs": [
    {
     "name": "stdout",
     "output_type": "stream",
     "text": [
      "                  population    area\n",
      "England             55550138  130309\n",
      "Scotland             5466000   77911\n",
      "Wales                3169562   20736\n",
      "Northern Ireland     1895510   13793\n"
     ]
    }
   ],
   "source": [
    "# Convert dictionaries to DataFrame\n",
    "df = pd.DataFrame({'population': population, 'area': area})\n",
    "\n",
    "# Print resulting DataFrame sorted by the first column descending order. (Population Descending) \n",
    "print(df)"
   ]
  }
 ],
 "metadata": {
  "kernelspec": {
   "display_name": "Python 3",
   "language": "python",
   "name": "python3"
  },
  "language_info": {
   "codemirror_mode": {
    "name": "ipython",
    "version": 3
   },
   "file_extension": ".py",
   "mimetype": "text/x-python",
   "name": "python",
   "nbconvert_exporter": "python",
   "pygments_lexer": "ipython3",
   "version": "3.10.1 (tags/v3.10.1:2cd268a, Dec  6 2021, 19:10:37) [MSC v.1929 64 bit (AMD64)]"
  },
  "orig_nbformat": 4,
  "vscode": {
   "interpreter": {
    "hash": "e97064513f0d268e2f073204e543b8077386c7433ee9f7232070081c2302a999"
   }
  }
 },
 "nbformat": 4,
 "nbformat_minor": 2
}
