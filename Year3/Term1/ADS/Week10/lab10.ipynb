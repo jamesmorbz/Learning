{
 "cells": [
  {
   "cell_type": "markdown",
   "metadata": {},
   "source": [
    "# ECS529U Algorithms and Data Structures                  \n",
    "# Lab sheet 10\n",
    "\n",
    "This lab gets you to work with dynamic programming algorithms and also practically \n",
    "compare their efficiency by testing them on randomly generated inputs. \n",
    "\n",
    "**Marks (max 5):**  Questions 1-5: 1 each"
   ]
  },
  {
   "cell_type": "markdown",
   "metadata": {},
   "source": [
    "## Question 1\n",
    "\n",
    "We define the Thribonacci sequence of numbers by the following function _thrib_:\n",
    "\n",
    "- _thrib_(0) = 2\n",
    "- _thrib_(1) = 1\n",
    "- _thrib_(2) = 0\n",
    "- _thrib_(n) = 3 _thrib_(n-1) + 2 _thrib_(n-2) + _thrib_(n-3) ,  if n > 2\n",
    "\n",
    "Write a recursive Python function \n",
    "\n",
    "    def thrib(n)\n",
    "    \n",
    "that, on input `n`, returns _thrib_(`n`). \n",
    "\n",
    "Then, change your function into a dynamic programming one: \n",
    "\n",
    "    def thribDP(n)\n",
    "\n",
    "using memoisation."
   ]
  },
  {
   "cell_type": "code",
   "execution_count": 9,
   "metadata": {},
   "outputs": [
    {
     "name": "stdout",
     "output_type": "stream",
     "text": [
      "2036\n"
     ]
    }
   ],
   "source": [
    "def thrib(n):\n",
    "    if n == 0:\n",
    "        return 2\n",
    "    elif n == 1:\n",
    "        return 1\n",
    "    elif n == 2:\n",
    "        return 0\n",
    "    else:\n",
    "        return 3 * thrib(n - 3) + 2 * thrib(n - 2) + thrib(n - 1)\n",
    "\n",
    "\n",
    "def thribDP(n, memo={}):\n",
    "    if n == 0:\n",
    "        return 1\n",
    "    elif n == 1:\n",
    "        return 1\n",
    "    elif n == 2:\n",
    "        return 1\n",
    "    \n",
    "    if n not in memo:\n",
    "        memo[n] = 3 * thribDP(n - 3, memo) + 2 * thribDP(n - 2, memo) + thribDP(n - 1, memo)\n",
    "    \n",
    "    return memo[n]\n",
    "\n",
    "result = thribDP(10)\n",
    "print(result)\n"
   ]
  },
  {
   "cell_type": "markdown",
   "metadata": {},
   "source": [
    "## Question 2\n",
    "\n",
    "Change your DP function from Question 1 into a dynamic programming bottom-up one:\n",
    "\n",
    "    def thribDPBU(n)\n",
    "\n",
    "using iteration"
   ]
  },
  {
   "cell_type": "code",
   "execution_count": 2,
   "metadata": {},
   "outputs": [
    {
     "name": "stdout",
     "output_type": "stream",
     "text": [
      "2249\n"
     ]
    }
   ],
   "source": [
    "def thribDPBU(n):\n",
    "    if n == 0:\n",
    "        return 2\n",
    "    elif n == 1:\n",
    "        return 1\n",
    "    elif n == 2:\n",
    "        return 0\n",
    "    \n",
    "    # Initialize an array to store computed values\n",
    "    dp = [0] * (n + 1)\n",
    "    dp[0] = 2\n",
    "    dp[1] = 1\n",
    "    dp[2] = 0\n",
    "    \n",
    "    # Iterate from 3 to n and calculate Thribonacci numbers bottom-up\n",
    "    for i in range(3, n + 1):\n",
    "        dp[i] = 3 * dp[i - 1] + 2 * dp[i - 2] + dp[i - 3]\n",
    "    \n",
    "    return dp[n]\n",
    "\n",
    "result = thribDPBU(8)\n",
    "print(result)\n"
   ]
  },
  {
   "cell_type": "markdown",
   "metadata": {},
   "source": [
    "# Question 3\n",
    "\n",
    "Write Python functions:\n",
    "\n",
    "    def coinSplitTime(n)\n",
    "    def coinSplitDPTime(n)\n",
    "    def coinSplitDPBUTime(n)\n",
    "    \n",
    "that run `coinSplit(n)`, `coinSplitDP(n)` and `coinSplitDPBU(n)` respectively on input `n` \n",
    "and return the time taken for each of them to return. \n",
    "\n",
    "Test your timing functions on values 10, 100, 1000, 10000 for `n` and fill in the next table. \n",
    "\n",
    "Use these two choices for `coin`:\n",
    "\n",
    "1. `coin1 = [200, 100, 50, 20, 5, 2, 1]`            \n",
    "2. `coin2 = [200, 199, 198, ..., 3, 2, 1]`\n",
    "\n",
    "To avoid waiting forever, if a run takes more than e.g. 15 seconds then kill it and fill in \"timeout\" in the table. **Note you need to fill in the table to get marks in this question!**\n",
    "\n",
    "| value n/ coin array  |  10/ coin1 | 100/ coin1 | 1000/ coin1 | 10000/ coin1 | 10/ coin2 | 100/ coin2 | 1000/ coin2 | 10000/ coin2 |\n",
    "|:------------|------|-----|------|-------|--------|--------|--------|--------|\n",
    "| coinSplit time (sec)| |     |      |       |        | |||               \n",
    "| coinSplitDP time (sec)| |     |      |       |        ||||                \n",
    "| coinSplitDPBU time (sec)| |     |      |       |        ||||                "
   ]
  },
  {
   "cell_type": "markdown",
   "metadata": {},
   "source": [
    "# Question 4\n",
    "\n",
    "Similarly to Question 4 of Lecture 10, suppose we have a bag and we want to fill it with books.\n",
    "The bag can take at most `w` kilos of weight, while\n",
    "the weights of our books are given by an array\n",
    "`bkWeight` (e.g. `bkWeight[0]` is the weight of the\n",
    "first book, etc.). Each book has a value, given by an\n",
    "array `bkVal` (e.g. `bkVal[0]` is the value of the first\n",
    "book, etc.). \n",
    "\n",
    "Write a dynamic programming function\n",
    "\n",
    "    def maxBooks(w, bkWeight, bkVal)\n",
    "\n",
    "which returns a pair `(v,A)` where `v` is the maximum value of books that we can fill our bag with and `A` is an array containing the corresponding books in order (i.e. their indices). For example, the following code:\n",
    "\n",
    "    bkWeight = [1,1,3,4,6,12,33,45,50]\n",
    "    bkVal = [1,2,5,1,10,20,24,5,60]\n",
    "    print(maxBooksVal(100,bkWeight,bkVal))\n",
    "    \n",
    "should return `(112, [0, 1, 2, 5, 6, 8])`. Assume `bkWeight` is sorted. *Hint:* work as suggested in Question 6, Lecture 10."
   ]
  },
  {
   "cell_type": "code",
   "execution_count": 3,
   "metadata": {},
   "outputs": [
    {
     "name": "stdout",
     "output_type": "stream",
     "text": [
      "(112, [0, 1, 2, 5, 6, 8])\n"
     ]
    }
   ],
   "source": [
    "def maxBooks(w, bkWeight, bkVal):\n",
    "    n = len(bkWeight)\n",
    "    \n",
    "    # Initialize a 2D array to store the maximum values\n",
    "    dp = [[0] * (w + 1) for _ in range(n + 1)]\n",
    "    \n",
    "    # Build the dp array\n",
    "    for i in range(1, n + 1):\n",
    "        for j in range(1, w + 1):\n",
    "            if bkWeight[i - 1] <= j:\n",
    "                dp[i][j] = max(dp[i - 1][j], bkVal[i - 1] + dp[i - 1][j - bkWeight[i - 1]])\n",
    "            else:\n",
    "                dp[i][j] = dp[i - 1][j]\n",
    "    \n",
    "    # Find the selected books\n",
    "    v = dp[n][w]\n",
    "    A = []\n",
    "    i, j = n, w\n",
    "    while i > 0 and j > 0:\n",
    "        if dp[i][j] != dp[i - 1][j]:\n",
    "            A.append(i - 1)\n",
    "            j -= bkWeight[i - 1]\n",
    "        i -= 1\n",
    "    \n",
    "    return v, list(reversed(A))\n",
    "\n",
    "# Example usage\n",
    "bkWeight = [1, 1, 3, 4, 6, 12, 33, 45, 50]\n",
    "bkVal = [1, 2, 5, 1, 10, 20, 24, 5, 60]\n",
    "result = maxBooks(100, bkWeight, bkVal)\n",
    "print(result)\n"
   ]
  },
  {
   "cell_type": "markdown",
   "metadata": {},
   "source": [
    "# Question 5\n",
    "\n",
    "Using dynamic programming, write a Python function: \n",
    "\n",
    "    def closestSubset(A,s)\n",
    "\n",
    "that takes an array of non-negative integers `A` and a non-negative integer `s` and returns an array consisting \n",
    "of elements of `A` (i.e. a subset of `A`) which add up to `s`. If there is no subset that adds up to `s`, the function \n",
    "should instead return a subset which adds up to the value closest to `s`. \n",
    "\n",
    "For example: \n",
    "\n",
    "- if `A` is `[12, 79, 99, 91, 81, 47]` and `s` is `150`, it will return `[12, 91, 47]` as 12+91+47 is 150\n",
    "- if `A` is `[15, 79, 99, 6, 69, 82, 32]` and `s` is `150` it will return `[69, 82]` as 69+82 is 151, and \n",
    "there is no subset of `A` whose sum is 150.\n",
    "\n",
    "In more detail, your function should use an auxiliary function:\n",
    "\n",
    "    def closestSubsetMem(A,s,lo,memo)\n",
    "    \n",
    "that returns an array consisting of elements of `A[lo:]` which add up to the closest value to `s`. To implement this function, you can use recursion as follows:\n",
    "\n",
    "- If `s` is less or equal to 0 or `lo` is beyond the bounds of `A`, then the solution is simply `[]`\n",
    "- Otherwise, we first consider the (recursive) case where element `A[lo]` is included in the selected elements (case withIt): \n",
    "\n",
    "    - if this case returns an array of elements that add up to `s` then the solution is that array\n",
    "    - otherwise, we also consider the (recursive) case where element `A[lo]` is not included in the selected elements (case withoutIt); between the returned arrays of cases withIt and withoutIt, we select the one whose elements sum up closer to `s`.\n",
    "\n",
    "Test the method with arrays generated by `randomIntArray(s,n)` from Lab 3. Try with:\n",
    "\n",
    "    A = randomIntArray(20,1000)\n",
    "    subset = closestSubset(A,5000)"
   ]
  },
  {
   "cell_type": "code",
   "execution_count": 4,
   "metadata": {},
   "outputs": [
    {
     "name": "stdout",
     "output_type": "stream",
     "text": [
      "[47, 91, 12]\n",
      "[82, 69]\n"
     ]
    }
   ],
   "source": [
    "def closestSubset(A, s):\n",
    "    memo = {}\n",
    "    result = closestSubsetMem(A, s, 0, memo)\n",
    "    return result\n",
    "\n",
    "def closestSubsetMem(A, s, lo, memo):\n",
    "    if s <= 0 or lo >= len(A):\n",
    "        return []\n",
    "\n",
    "    if (lo, s) in memo:\n",
    "        return memo[(lo, s)]\n",
    "\n",
    "    # Include A[lo] in the selected elements\n",
    "    withIt = closestSubsetMem(A, s - A[lo], lo + 1, memo) + [A[lo]]\n",
    "\n",
    "    # Exclude A[lo] from the selected elements\n",
    "    withoutIt = closestSubsetMem(A, s, lo + 1, memo)\n",
    "\n",
    "    # Choose the array with a sum closer to s\n",
    "    if abs(sum(withIt) - s) < abs(sum(withoutIt) - s):\n",
    "        memo[(lo, s)] = withIt\n",
    "    else:\n",
    "        memo[(lo, s)] = withoutIt\n",
    "\n",
    "    return memo[(lo, s)]\n",
    "\n",
    "# Example usage\n",
    "A = [12, 79, 99, 91, 81, 47]\n",
    "B = [15, 79, 99, 6, 69, 82, 32]\n",
    "s = 150\n",
    "result = closestSubset(A, s)\n",
    "print(result)\n",
    "result = closestSubset(B, s)\n",
    "print(result)\n"
   ]
  }
 ],
 "metadata": {
  "kernelspec": {
   "display_name": "Python 3 (ipykernel)",
   "language": "python",
   "name": "python3"
  },
  "language_info": {
   "codemirror_mode": {
    "name": "ipython",
    "version": 3
   },
   "file_extension": ".py",
   "mimetype": "text/x-python",
   "name": "python",
   "nbconvert_exporter": "python",
   "pygments_lexer": "ipython3",
   "version": "3.11.5"
  }
 },
 "nbformat": 4,
 "nbformat_minor": 2
}
