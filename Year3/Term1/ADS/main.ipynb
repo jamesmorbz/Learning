{
 "cells": [
  {
   "cell_type": "code",
   "execution_count": 7,
   "metadata": {},
   "outputs": [
    {
     "data": {
      "text/plain": [
       "['WHAM',\n",
       " 'WOLVES',\n",
       " 'UNITED',\n",
       " 'ARSENAL',\n",
       " 'CHELSEA',\n",
       " 'EVERTON',\n",
       " 'CITY',\n",
       " 'LUTON',\n",
       " 'VILLA',\n",
       " 'FOREST']"
      ]
     },
     "execution_count": 7,
     "metadata": {},
     "output_type": "execute_result"
    }
   ],
   "source": [
    "U = [4,2,6,1,0,8,5,3,9,7]\n",
    "D = [U[i]*3 for i in range (10)]\n",
    "A = [\"CHELSEA\", \"ARSENAL\", \"WOLVES\", \"LUTON\", \"WHAM\", \"CITY\", \"UNITED\", \"FOREST\", \"EVERTON\", \"VILLA\"]\n",
    "B = [A[U[i]] for i in range (10)]\n",
    "B\n",
    "[WHAM,WOLVES,UNITED,ARSENAL,CHELSEA,EVERTON,CITY,LUTON,VILLA,FOREST]"
   ]
  },
  {
   "cell_type": "code",
   "execution_count": 15,
   "metadata": {},
   "outputs": [
    {
     "data": {
      "text/plain": [
       "[10, 0, 2, 0, 10, 0, 2]"
      ]
     },
     "execution_count": 15,
     "metadata": {},
     "output_type": "execute_result"
    }
   ],
   "source": [
    "def merge(A, B):\n",
    "    C = A[:]\n",
    "    for i in range(0,len(B)):\n",
    "        curr_len = len(C)\n",
    "        C[curr_len:] = [B[i]]\n",
    "    return C\n",
    "\n",
    "merge([10,0,2,0],[10,0,2])"
   ]
  },
  {
   "cell_type": "code",
   "execution_count": 19,
   "metadata": {},
   "outputs": [
    {
     "data": {
      "text/plain": [
       "'hash.png'"
      ]
     },
     "execution_count": 19,
     "metadata": {},
     "output_type": "execute_result"
    }
   ],
   "source": [
    "from graphviz import Digraph\n",
    "\n",
    "\n",
    "# Given the array D and a hash function, we'll simulate inserting elements into the hashtable\n",
    "# and then draw the final state of the hashtable.\n",
    "\n",
    "D = [12, 6, 18, 3, 0, 24, 15, 9, 27, 21]\n",
    "\n",
    "# Define a simple hash function\n",
    "def hash(d):\n",
    "    return d % 7\n",
    "\n",
    "# Initialize the hashtable with 7 empty slots\n",
    "hashtable = [[] for _ in range(7)]\n",
    "\n",
    "# Insert each element from D into the hashtable\n",
    "for d in D:\n",
    "    index = hash(d)\n",
    "    hashtable[index].append(d)\n",
    "\n",
    "# Now we will draw the hashtable\n",
    "def draw_hashtable(hashtable):\n",
    "    dot = Digraph(comment='Hashtable')\n",
    "    dot.attr(rankdir='TB', shape='none')\n",
    "\n",
    "    # Create invisible nodes for structure\n",
    "    for i in range(len(hashtable)):\n",
    "        dot.node(f'invis{i}', '', width='0', height='0')\n",
    "\n",
    "    # Create clusters for hashtable buckets\n",
    "    for i, bucket in enumerate(hashtable):\n",
    "        with dot.subgraph(name=f'cluster_{i}') as c:\n",
    "            c.attr(label=f'Index {i}')\n",
    "            # Add nodes for each element in the bucket\n",
    "            for j, val in enumerate(bucket):\n",
    "                c.node(f'node{i}_{j}', str(val))\n",
    "\n",
    "            # Connect nodes in bucket if there are more than one\n",
    "            for j in range(len(bucket) - 1):\n",
    "                c.edge(f'node{i}_{j}', f'node{i}_{j+1}')\n",
    "\n",
    "        # Connect invisible nodes for structure\n",
    "        if i < len(hashtable) - 1:\n",
    "            dot.edge(f'invis{i}', f'invis{i+1}', style='invis')\n",
    "\n",
    "    return dot\n",
    "\n",
    "# Draw the hashtable\n",
    "dot = draw_hashtable(hashtable)\n",
    "\n",
    "# Save the diagram\n",
    "hashtable_path = 'hash'\n",
    "dot.render(hashtable_path, format='png', cleanup=True)\n",
    "\n",
    "# Return the path to the diagram\n",
    "hashtable_path + '.png'"
   ]
  },
  {
   "cell_type": "code",
   "execution_count": null,
   "metadata": {},
   "outputs": [],
   "source": [
    "def add(self, d):\n",
    "    position = self.hash(d)\n",
    "    ptr = self.inList.head\n",
    "    for i in range(0, position):\n",
    "        ptr = ptr.next\n",
    "    ptr.insert(0,d)"
   ]
  },
  {
   "cell_type": "code",
   "execution_count": null,
   "metadata": {},
   "outputs": [],
   "source": [
    "class LinkedHashTable:\n",
    "    def __init__(self):\n",
    "        self.size = 0\n",
    "        self.inList = LinkedList()\n",
    "        for _ in range(10):\n",
    "            self.inList.insert(0, LinkedList())\n",
    "\n",
    "    def hash(self, d):\n",
    "        return d % self.inList.length\n",
    "\n",
    "    def insert(self, d):\n",
    "        index = self.hash(d)\n",
    "        self.inList.get(index).insert(0, d)\n",
    "        self.size += 1\n",
    "        if self.size == self.inList.length:\n",
    "            self._resizeUp()\n",
    "\n",
    "    def _resizeUp(self):\n",
    "        oldList = self.inList\n",
    "        self.inList = LinkedList()\n",
    "        for _ in range(oldList.length * 2):\n",
    "            self.inList.insert(0, LinkedList())\n",
    "\n",
    "        ptr = oldList.head\n",
    "        while ptr is not None:\n",
    "            sub_list = ptr.data\n",
    "            while sub_list.head is not None:\n",
    "                d = sub_list.remove(0)\n",
    "                self.insert(d)\n",
    "            ptr = ptr.next\n"
   ]
  },
  {
   "cell_type": "code",
   "execution_count": null,
   "metadata": {},
   "outputs": [],
   "source": [
    "def _resizeUp(self):\n",
    "    newInList = LinkedList()\n",
    "    for _ in range(self.inList.length * 2):\n",
    "        newInList.insert(0, LinkedList())\n",
    "\n",
    "    ptr = self.inList.head\n",
    "    while ptr is not None:\n",
    "        l = ptr.data\n",
    "        while l.head is not None:\n",
    "            d = l.remove(0)\n",
    "            new_index = self.hash(d)\n",
    "            newInList.get(new_index).insert(0, d)\n",
    "        ptr = ptr.next\n",
    "\n",
    "    self.inList = newInList"
   ]
  }
 ],
 "metadata": {
  "kernelspec": {
   "display_name": "base",
   "language": "python",
   "name": "python3"
  },
  "language_info": {
   "codemirror_mode": {
    "name": "ipython",
    "version": 3
   },
   "file_extension": ".py",
   "mimetype": "text/x-python",
   "name": "python",
   "nbconvert_exporter": "python",
   "pygments_lexer": "ipython3",
   "version": "3.11.5"
  }
 },
 "nbformat": 4,
 "nbformat_minor": 2
}
