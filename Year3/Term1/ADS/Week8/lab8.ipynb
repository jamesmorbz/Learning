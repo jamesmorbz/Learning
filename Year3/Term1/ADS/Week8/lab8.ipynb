{
 "cells": [
  {
   "cell_type": "markdown",
   "metadata": {},
   "source": [
    "# ECS529U Algorithms and Data Structures\n",
    "# Lab sheet 8\n",
    "\n",
    "This lab gets you to work with AVL trees and heaps.\n",
    "\n",
    "**Marks (max 5):**  Questions 1,2,4,6: 1 each | Questions 3,5: 0.5 each"
   ]
  },
  {
   "cell_type": "markdown",
   "metadata": {},
   "source": [
    "## Question 0 [no marks]\n",
    "\n",
    "In some of the following questions you will be asked to provide an answer which depends on the following numbers. Please calculate the numbers and array below:\n",
    "\n",
    "- `SID`: this is your QMUL student number. It should be a 9-digit number.\n",
    "- `SID2`: this is `SID` squared. It should be a 17-digit number.\n",
    "- $u_0$, $u_1$, $u_2$, $u_3$, $u_4$, $u_5$, $u_6$, $u_7$, $u_8$, $u_{9}$: these are the first 10 __unique__ digits  (between 0 and 9) in the sequence `SID2`, from left to right. If there are less than 10 unique\n",
    "digits in your `SID2`, you should fill in your sequence of $u$'s\n",
    "with the remaining digits in increasing order. \n",
    "In the end, your sequence\n",
    "$u_0, u_1, \\dots, u_9$\n",
    "should\n",
    "contain all digits between 0 and 9 (in some order).\n",
    "\n",
    "Let `U` be the array [$u_0, u_1, u_2, u_3, u_4, u_5, u_6, u_7, u_8, u_{9}$]. __Write down the array `U`.__\n",
    "\n",
    "For example, if your student ID is 200435842, then its square is 40174526758248964.\n",
    "This gives us the following unique digits, from left to right:\n",
    "\n",
    "    4,0,1,7,5,2,6,8,9\n",
    "    \n",
    "To get the sequence of $u$'s we simply need to fill in the number 3 at the end. Thus:\n",
    "\n",
    "    U = [4,0,1,7,5,2,6,8,9,3]\n",
    "\n",
    "\n"
   ]
  },
  {
   "cell_type": "code",
   "execution_count": 1,
   "metadata": {},
   "outputs": [
    {
     "name": "stdout",
     "output_type": "stream",
     "text": [
      "210344149\n",
      "44244661018534201\n"
     ]
    },
    {
     "data": {
      "text/plain": [
       "[4, 0, 2, 7, 5, 1, 6, 3, 8, 9]"
      ]
     },
     "execution_count": 1,
     "metadata": {},
     "output_type": "execute_result"
    }
   ],
   "source": [
    "print(210344149)\n",
    "print(210344149**2)\n",
    "[4,2,6,1,0,8,5,3,9,7]"
   ]
  },
  {
   "cell_type": "markdown",
   "metadata": {},
   "source": [
    "## Question 1 [1]\n",
    "\n",
    "This question is about understanding heaps. Consider the array `A` calculated as follows:\n",
    "\n",
    "    N = [23, 0, 22, 54, 13, 22, 54, 12, 3, 4]\n",
    "    A = [N[U[i]] for i in range(len(N))]\n",
    "\n",
    "a) Write down the array `A`.\n",
    "\n",
    "[13, 22, 54, 0, 23, 3, 22, 54, 12, 4]\n",
    "\n",
    "b) Draw the heap we obtain if we start from the empty heap and add consecutively the numbers of the array `A`, starting from `A[0]`.\n",
    "\n",
    "    13\n",
    "  /   \\\n",
    " 22    54\n",
    "/ \\    / \\\n",
    "0  23  3 22\n",
    "   / \\  \\\n",
    "  54 12  4\n",
    "\n",
    "c) Draw the heap we obtain if we remove its root, using the technique followed by the `removeRoot` function that we saw in the lecture (week 8).\n",
    "\n"
   ]
  },
  {
   "cell_type": "code",
   "execution_count": 20,
   "metadata": {},
   "outputs": [
    {
     "name": "stdout",
     "output_type": "stream",
     "text": [
      "[13, 22, 54, 0, 23, 3, 22, 54, 12, 4]\n"
     ]
    }
   ],
   "source": [
    "N = [23, 0, 22, 54, 13, 22, 54, 12, 3, 4]\n",
    "A = [N[U[i]] for i in range(len(N))]\n",
    "print(A)"
   ]
  },
  {
   "cell_type": "markdown",
   "metadata": {},
   "source": [
    "## Question 2 [1]\n",
    "\n",
    "Add in `Heap` the following functions, assuming that we work with heaps that store integers:\n",
    "\n",
    "a) `def max(self)`\n",
    "\n",
    "that returns the largest element of the heap. If the heap is empty, the function should return `None`.\n",
    "\n",
    "b) `def min(self)`\n",
    "\n",
    "that returns the largest element of the heap. If the heap is empty, the function should return `None`. Note that this does not need to be an efficient implementation.\n",
    "\n",
    "c) `def _search(self,d)`\n",
    "\n",
    "that returns the position of the first occurrence of `d` in the heap (in its array list representation). If `d` is not in the heap, the function should return `-1`.\n",
    "\n",
    "d) `toSortedArray(self)`\n",
    "\n",
    "that returns a sorted array containing the elements of the heap. The heap should not be changed. Do not use a `clone` function for heaps.\n",
    "\n",
    "For example, if the heap `h` is represented by the list `[50, 50, 42, 12, 6, 9, 5, 1, 4, 6, 5, 8]` then `h.toSortedArray` should return the array `[1, 4, 5, 5, 6, 6, 8, 12, 42, 42, 50, 50]`. \n",
    "\n",
    "*Hint:* You can use the provided `clone` function of `ArrayList` to make a copy of the internal array list, read out the sorted array as in `heapsort` and then reinstate the internal array list to its state."
   ]
  },
  {
   "cell_type": "code",
   "execution_count": 21,
   "metadata": {},
   "outputs": [
    {
     "name": "stdout",
     "output_type": "stream",
     "text": [
      "[124, 43, 34, 42, 4, 0, 0, -4, 0]\n",
      "124 [43, 42, 34, 0, 4, 0, 0, -4]\n",
      "43 [42, 4, 34, 0, -4, 0, 0]\n",
      "42 [34, 4, 0, 0, -4, 0]\n",
      "\n",
      " [-23, -3, 1, 1, 6, 7, 9, 12, 23, 34, 54, 56, 124]\n",
      "\n",
      " [-23, -3, 1, 1, 6, 7, 9, 12, 23, 34, 54, 56, 124]\n"
     ]
    }
   ],
   "source": [
    "class Heap:\n",
    "    def __init__(self):\n",
    "        self.inList = ArrayList()\n",
    "        self.size = 0\n",
    "        \n",
    "    def __str__(self):\n",
    "        return str(self.inList)\n",
    " \n",
    "    def add(self,d):\n",
    "        # add d in the bottom leaf position\n",
    "        self.inList.append(d)\n",
    "        \n",
    "        # and then pull it up in its right position by swapping\n",
    "        pos = self.size # position of \"offending element\"\n",
    "        \n",
    "        # if element in position pos is larger than its parent, swap them\n",
    "        while pos > 0 and self.inList.get(pos) > self.inList.get((pos-1)//2): \n",
    "            self._swap(pos,(pos-1)//2)\n",
    "            pos = (pos-1)//2              \n",
    "\n",
    "        # increase the size of the heap\n",
    "        self.size += 1\n",
    "\n",
    "    def removeRoot(self):\n",
    "        # store the root somewhere\n",
    "        val = self.inList.get(0)\n",
    "        \n",
    "        # set the root to the value of the bottom leaf\n",
    "        self.inList.set(0,self.inList.get(self.size-1))\n",
    "        self.inList.remove(self.size-1)\n",
    "        self.size -= 1\n",
    "        \n",
    "        # fix the heap (heapify)\n",
    "        self.heapify(0)\n",
    "\n",
    "        return val    \n",
    "    \n",
    "    def heapify(self,pos): # fixes a heap that is possibly broken in position pos\n",
    "        \n",
    "        # if there is no left child, heap is fine, return\n",
    "        if self.size <= 2*pos+1: return\n",
    "        \n",
    "        # compare element at pos with its children and fix if needed\n",
    "        \n",
    "        # pos has children left: 2*pos+1 and right: 2*pos+2\n",
    "        if self.size <= 2*pos+2 or self.inList.get(2*pos+1) >= self.inList.get(2*pos+2):\n",
    "            maxChild = 2*pos+1\n",
    "        else: maxChild = 2*pos+2\n",
    "\n",
    "        # compare maxChild with pos\n",
    "        if self.inList.get(pos) < self.inList.get(maxChild):\n",
    "            self._swap(pos,maxChild)\n",
    "            self.heapify(maxChild)\n",
    "\n",
    "    def _swap(self,i,j):\n",
    "        temp = self.inList.get(i)\n",
    "        self.inList.set(i,self.inList.get(j))\n",
    "        self.inList.set(j,temp)    \n",
    "\n",
    "    def append(self, d):\n",
    "        self.inList.append(d)\n",
    "        self.size += 1\n",
    "        \n",
    "    def addAll(self, A): # just to help with testing\n",
    "        for x in A: self.add(x)\n",
    "            \n",
    "h = Heap()\n",
    "h.addAll([4,42,0,-4,124,0,34,0,43])\n",
    "print(h)\n",
    "print(h.removeRoot(),h)\n",
    "print(h.removeRoot(),h)\n",
    "print(h.removeRoot(),h)\n",
    "\n",
    "\n",
    "def heapsort1(A):\n",
    "    # create an empty heap h\n",
    "    h = Heap()\n",
    "    \n",
    "    # add all elements of A in h\n",
    "    for x in A: \n",
    "        h.add(x)\n",
    "    \n",
    "    # remove all elements from h and put them back into A\n",
    "    # from the end backwards\n",
    "    for i in range(len(A)-1,-1,-1):\n",
    "        A[i] = h.removeRoot()\n",
    "\n",
    "A = [34,1,6,56,1,-3,124,54,12,7,23,9,-23]\n",
    "heapsort1(A)\n",
    "print(\"\\n\",A)        \n",
    "\n",
    "\n",
    "def heapsort2(A):\n",
    "    h = Heap()\n",
    "    for x in A:\n",
    "        h.append(x)\n",
    "\n",
    "    for i in range(len(A)-1,-1,-1):\n",
    "        h.heapify(i)\n",
    "        \n",
    "    for i in range(len(A)-1,-1,-1):\n",
    "        A[i] = h.removeRoot()\n",
    "        \n",
    "A = [34,1,6,56,1,-3,124,54,12,7,23,9,-23]\n",
    "heapsort2(A)\n",
    "print(\"\\n\",A)"
   ]
  },
  {
   "cell_type": "markdown",
   "metadata": {},
   "source": [
    "## Question 3 [0.5]\n",
    "\n",
    "Add in `Heap` a function \n",
    "\n",
    "    def _remove(self,i)\n",
    "\n",
    "that removes from the heap the element in position `i`. \n",
    "\n",
    "Then, using `_remove` and the function `_search` from Question 2, define a function \n",
    "\n",
    "    def removeVal(self, d)\n",
    "    \n",
    "that removes the first occurrence of `d` from the heap, and leaves the heap unchanged if `d` is not in it.\n",
    "\n",
    "**Hint:** The difficult part with `_remove` is to make sure that, after removal, your tree remains a heap. Using the technique of `removeRoot` alone will not be enough!"
   ]
  },
  {
   "cell_type": "markdown",
   "metadata": {},
   "source": [
    "## Question 4 [1]\n",
    "\n",
    "This question is about understanding AVL trees. Consider the array `A` calculated as follows:\n",
    "\n",
    "    N = [23, 0, 21, 1, 13, 22, 54, 12, 3, 4]\n",
    "    A = [N[U[i]] for i in range(len(N))]\n",
    "\n",
    "a) Write down the array `A`\n",
    "\n",
    "    A = [13, 22, 54, 0, 23, 3, 22, 54, 12, 4]\n",
    "\n",
    "b) Draw the tree we obtain if we start from the empty AVL tree and add consecutively the numbers of the array `A`, starting from `A[0]`.\n",
    "    \n",
    "- Explain step-by-step how the first rotation in your tree was performed.\n",
    "- Calculate the balance factors of all nodes in your final tree.\n",
    "\n",
    "c) Draw the AVL tree we obtain if, starting from the tree built in part a, we remove its root."
   ]
  },
  {
   "cell_type": "code",
   "execution_count": 22,
   "metadata": {},
   "outputs": [
    {
     "name": "stdout",
     "output_type": "stream",
     "text": [
      "[13, 22, 54, 0, 23, 3, 22, 54, 12, 4]\n"
     ]
    }
   ],
   "source": [
    "N = [23, 0, 22, 54, 13, 22, 54, 12, 3, 4]\n",
    "A = [N[U[i]] for i in range(len(N))]\n",
    "print(A)"
   ]
  },
  {
   "cell_type": "markdown",
   "metadata": {},
   "source": [
    "## Question 5 [0.5]\n",
    "\n",
    "Implement the function `remove` for the `AVLTree` class.\n",
    "\n",
    "The function should remove elements exactly as the `remove` function of the `BST` class, but rebalance the tree after each node removal. You will need to extend the `_removeNode` function so as to take `path` as an additional argument and extend it (in case 3) with the nodes leading to the `minRNode`."
   ]
  },
  {
   "cell_type": "markdown",
   "metadata": {},
   "source": [
    "## Priority Queues\n",
    "\n",
    "For the next question, we look again at priority queues. A priority queue is a queue in \n",
    "which each element has a priority, and where dequeueing always returns the item with the \n",
    "greatest priority in the queue.\n",
    "\n",
    "We start by defining a class of priority queue elements (PQ-elements for short):\n",
    "\n",
    "    class PQElement:\n",
    "        def __init__(self, v, p):\n",
    "            self.val = v\n",
    "            self.priority = p\n",
    "\n",
    "So, a PQ-element is a pair consisting of a value (which can be anything, e.g. an integer, a \n",
    "string, an array, etc.) and a priority (which is an integer). \n",
    "\n",
    "In Lab 5 we also implemented the `__str__` function to be able to print PQ-elements.\n",
    "\n",
    "## Question 6 [1]\n",
    "\n",
    "Write a Python class `PQueue` that implements a priority queue using a heap of \n",
    "`PQElement`’s. In particular, you need to implement 5 functions:\n",
    "- one for creating an empty priority queue\n",
    "- one for returning the size of the priority queue\n",
    "- one for enqueueing a new PQ-element in the priority queue\n",
    "- one for dequeueing from the priority queue the PQ-element with the greatest priority\n",
    "- one that prints the elements of the priority queue into a string (call this one `__str__`)\n",
    "\n",
    "Test each of the functions on examples of your own making. For example, running:\n",
    "\n",
    "    pq = PQueue()\n",
    "    A = [(1,9),(3,7),(13,-3),(0,10),(4,6),(5,5),(6,4),(2,8),(7,3),(9,1),(14,-4),(10,0),(11,-1),(8,2),(12,-2)]\n",
    "    for x in A: pq.enq(PQElement(x[0],x[1]))\n",
    "    print(pq)\n",
    "    print(pq.deq(),pq)\n",
    "\n",
    "should give this printout:\n",
    "\n",
    "    [(0,10),(1,9),(2,8),(3,7),(4,6),(5,5),(6,4),(7,3),(8,2),(9,1),(10,0),(11,-1),(12,-2),(13,-3),(14,-4)]\n",
    "    (0,10) [(1,9),(2,8),(3,7),(4,6),(5,5),(6,4),(7,3),(8,2),(9,1),(10,0),(11,-1),(12,-2),(13,-3),(14,-4)]\n",
    "\n",
    "**Note:** the print function should print the queue elements in descending priority order, without changing \n",
    "the queue. One idea is to use the function `toSortedArray` from Question 4."
   ]
  },
  {
   "cell_type": "code",
   "execution_count": 23,
   "metadata": {},
   "outputs": [],
   "source": [
    "# important: str should print elements in order of priority, without destroying or changing the queue\n",
    "\n",
    "class PQElement:\n",
    "    def __init__(self, v, p):\n",
    "        self.val = v\n",
    "        self.priority = p\n",
    "    \n",
    "    def __str__(self):\n",
    "        return \"(\"+str(self.val)+\",\"+str(self.priority)+\")\"\n",
    "    \n",
    "    def __lt__(self, other):\n",
    "        return self.priority < other.priority\n",
    "    \n",
    "    def __ge__(self, other):\n",
    "        return self.priority >= other.priority\n"
   ]
  },
  {
   "cell_type": "code",
   "execution_count": 24,
   "metadata": {},
   "outputs": [],
   "source": [
    "class ArrayList:\n",
    "    def __init__(self):\n",
    "        self.inArray = [0 for i in range(10)]\n",
    "        self.count = 0\n",
    "        \n",
    "    def swap(self, i, j):\n",
    "        tmp = self.inArray[i]\n",
    "        self.inArray[i] = self.inArray[j]\n",
    "        self.inArray[j] = tmp\n",
    "    \n",
    "    def get(self, i):\n",
    "        return self.inArray[i]\n",
    "\n",
    "    def set(self, i, e):\n",
    "        self.inArray[i] = e\n",
    "\n",
    "    def length(self):\n",
    "        return self.count\n",
    "\n",
    "    def append(self, e):\n",
    "        self.inArray[self.count] = e\n",
    "        self.count += 1\n",
    "        if len(self.inArray) == self.count:\n",
    "            self._resizeUp()     # resize array if reached capacity\n",
    "\n",
    "    def insert(self, i, e):\n",
    "        for j in range(self.count,i,-1):\n",
    "            self.inArray[j] = self.inArray[j-1]\n",
    "        self.inArray[i] = e\n",
    "        self.count += 1\n",
    "        if len(self.inArray) == self.count:\n",
    "            self._resizeUp()     # resize array if reached capacity\n",
    "\n",
    "    def remove(self, i):\n",
    "        self.count -= 1\n",
    "        val = self.inArray[i]\n",
    "        for j in range(i,self.count):\n",
    "            self.inArray[j] = self.inArray[j+1]\n",
    "        return val\n",
    "\n",
    "    # Clones the array list and returns the clone. The two\n",
    "    # copies are independent\n",
    "    def clone(self):\n",
    "        a = ArrayList()\n",
    "        a.inArray = self.inArray[:]\n",
    "        a.count = self.count\n",
    "        return a\n",
    "    \n",
    "    def __str__(self):\n",
    "        return str(self.inArray[:self.count])\n",
    "\n",
    "    def _resizeUp(self):\n",
    "        newArray = [0 for i in range(2*len(self.inArray))]\n",
    "        for j in range(len(self.inArray)):\n",
    "            newArray[j] = self.inArray[j]\n",
    "        self.inArray = newArray"
   ]
  },
  {
   "cell_type": "code",
   "execution_count": 25,
   "metadata": {},
   "outputs": [],
   "source": [
    "class PQueue:\n",
    "    def __init__(self):\n",
    "        self.inArray = ArrayList()\n",
    "    \n",
    "    def size(self):\n",
    "        return self.inArray.size\n",
    "    \n",
    "    def enq(self, element):\n",
    "        i = 0\n",
    "        while i < self.inArray.count and self.inArray.get(i).priority >= element.priority:\n",
    "            i += 1\n",
    "        self.inArray.insert(i, element)\n",
    "        \n",
    "    def deq(self):\n",
    "        if self.inArray.count == 0:\n",
    "            return None\n",
    "        return self.inArray.remove(0)\n",
    "    \n",
    "    def __str__(self):\n",
    "        result = [str(self.inArray.get(i)) for i in range(self.inArray.count)]\n",
    "        return '[' + ', '.join(result) + ']'"
   ]
  },
  {
   "cell_type": "code",
   "execution_count": 26,
   "metadata": {},
   "outputs": [
    {
     "name": "stdout",
     "output_type": "stream",
     "text": [
      "[(0,10), (1,9), (2,8), (3,7), (4,6), (5,5), (6,4), (7,3), (8,2), (9,1), (10,0), (11,-1), (12,-2), (13,-3), (14,-4)]\n",
      "(0,10) [(1,9), (2,8), (3,7), (4,6), (5,5), (6,4), (7,3), (8,2), (9,1), (10,0), (11,-1), (12,-2), (13,-3), (14,-4)]\n"
     ]
    }
   ],
   "source": [
    "pq = PQueue()\n",
    "A = [(1,9),(3,7),(13,-3),(0,10),(4,6),(5,5),(6,4),(2,8),(7,3),(9,1),(14,-4),(10,0),(11,-1),(8,2),(12,-2)]\n",
    "for x in A: pq.enq(PQElement(x[0],x[1]))\n",
    "print(pq)\n",
    "print(pq.deq(),pq)"
   ]
  }
 ],
 "metadata": {
  "kernelspec": {
   "display_name": "Python 3 (ipykernel)",
   "language": "python",
   "name": "python3"
  },
  "language_info": {
   "codemirror_mode": {
    "name": "ipython",
    "version": 3
   },
   "file_extension": ".py",
   "mimetype": "text/x-python",
   "name": "python",
   "nbconvert_exporter": "python",
   "pygments_lexer": "ipython3",
   "version": "3.11.5"
  }
 },
 "nbformat": 4,
 "nbformat_minor": 2
}
