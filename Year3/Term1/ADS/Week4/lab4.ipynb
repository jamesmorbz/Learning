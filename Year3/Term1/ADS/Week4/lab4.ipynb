{
 "cells": [
  {
   "cell_type": "markdown",
   "metadata": {},
   "source": [
    "# ECS529U Algorithms and Data Structures\n",
    "# Lab sheet 4\n",
    "\n",
    "This fourth lab gets you to work with recursive algorithms and also practically compare the\n",
    "efficiency of more sorting algorithms by testing them on randomly generated arrays.\n",
    "\n",
    "**Marks (max 5):** Questions 1-3: 1 each | Questions 4-7: 0.5 each"
   ]
  },
  {
   "cell_type": "markdown",
   "metadata": {},
   "source": [
    "## Question 1\n",
    "\n",
    "Write a Python function\n",
    "   \n",
    "    def timesOccursIn(k,A)\n",
    "    \n",
    "which which takes an integer and an array of integers and returns the number of times the\n",
    "integer occurs in the array. You must use recursion and no loops for this question.\n",
    "\n",
    "For example, if its arguments are `5` and `[1,2,5,3,6,5,3,5,5,4]` the function should return `4`.\n",
    "\n",
    "_Hint:_ Suppose `A` is not empty. If the first element of `A` is in fact `k`, the number of times that `k`\n",
    "occurs in `A` is “1 + the number of times it occurs in `A[1:]`”. Otherwise, it is the same as the\n",
    "number of times it occurs in `A[1:]`. On the other hand, if `A` is the empty array `[]` then `k`\n",
    "occurs 0 times in it."
   ]
  },
  {
   "cell_type": "code",
   "execution_count": 3,
   "metadata": {},
   "outputs": [
    {
     "name": "stdout",
     "output_type": "stream",
     "text": [
      "4\n"
     ]
    }
   ],
   "source": [
    "def timesOccursIn(k, A):\n",
    "    if not A:\n",
    "        return 0\n",
    "    if A[0] == k:\n",
    "        return 1 + timesOccursIn(k, A[1:])\n",
    "    else:\n",
    "        return timesOccursIn(k, A[1:])\n",
    "    \n",
    "A = [1, 2, 5, 3, 6, 5, 3, 5, 5, 4]\n",
    "k = 5\n",
    "result = timesOccursIn(k, A)\n",
    "print(result)"
   ]
  },
  {
   "cell_type": "markdown",
   "metadata": {},
   "source": [
    "## Question 2\n",
    "Write a Python function\n",
    "\n",
    "    def multArray(A,k)\n",
    "\n",
    "which takes an array `A` of integers and an integer `k` and changes `A` by multiplying each of\n",
    "its elements by `k`. You must use recursion and no loops for this question.\n",
    "For example, if it takes the array `[5,12,31,7,25]` and the integer `10`, it changes the \n",
    "array so that it becomes `[50,120,310,70,250]`.\n",
    "\n",
    "_Hint:_ The following “solution” will not work, as each recursive call creates a new copy of A\n",
    "so the original A is not changed.\n",
    "\n",
    "    def multAllNope(k,A):\n",
    "        if A == []: return\n",
    "        A[0] = A[0]*k\n",
    "        return multAllNope(k,A[1:])        \n",
    "Instead, the trick to do this is to define an auxiliary function `multAllRec(k,A,i)` which multiplies all elements of `A[i:]` by `k`. This function can then be defined with recursion."
   ]
  },
  {
   "cell_type": "code",
   "execution_count": 4,
   "metadata": {},
   "outputs": [
    {
     "name": "stdout",
     "output_type": "stream",
     "text": [
      "[50, 120, 310, 70, 250]\n"
     ]
    }
   ],
   "source": [
    "def multArray(A, k):\n",
    "    def multAllRec(k, A, i):\n",
    "        if i == len(A):\n",
    "            return\n",
    "        A[i] *= k\n",
    "        multAllRec(k, A, i + 1)\n",
    "    multAllRec(k, A, 0)\n",
    "\n",
    "A = [5, 12, 31, 7, 25]\n",
    "k = 10\n",
    "multArray(A, k)\n",
    "print(A)\n"
   ]
  },
  {
   "cell_type": "markdown",
   "metadata": {},
   "source": [
    "## Question 3\n",
    "\n",
    "Using recursion, write a Python function\n",
    "\n",
    "    def printArray(A)\n",
    "    \n",
    "that prints the elements of `A`, in order, one element per line.\n",
    "\n",
    "Now, using recursion, write a Python function\n",
    "\n",
    "    def printArrayRev(A)\n",
    "    \n",
    "that prints the elements of `A`, in reversed order, one element per line."
   ]
  },
  {
   "cell_type": "code",
   "execution_count": 5,
   "metadata": {},
   "outputs": [
    {
     "name": "stdout",
     "output_type": "stream",
     "text": [
      "Printing in forward order:\n",
      "1\n",
      "2\n",
      "3\n",
      "4\n",
      "5\n",
      "Printing in reverse order:\n",
      "5\n",
      "4\n",
      "3\n",
      "2\n",
      "1\n"
     ]
    }
   ],
   "source": [
    "def printArray(A):\n",
    "    if not A:\n",
    "        return\n",
    "    print(A[0])\n",
    "    printArray(A[1:])\n",
    "\n",
    "def printArrayRev(A):\n",
    "    if not A:\n",
    "        return\n",
    "    printArrayRev(A[1:])\n",
    "    print(A[0])\n",
    "\n",
    "A = [1, 2, 3, 4, 5]\n",
    "print(\"Printing in forward order:\")\n",
    "printArray(A)\n",
    "\n",
    "print(\"Printing in reverse order:\")\n",
    "printArrayRev(A)"
   ]
  },
  {
   "cell_type": "markdown",
   "metadata": {},
   "source": [
    "## Question 4\n",
    "\n",
    "Using recursion, write a Python function\n",
    "\n",
    "    def binSearch2(A,k)\n",
    "    \n",
    "which searches for `k` in `A` using binary search (see Lecture 1)."
   ]
  },
  {
   "cell_type": "code",
   "execution_count": 6,
   "metadata": {},
   "outputs": [
    {
     "name": "stdout",
     "output_type": "stream",
     "text": [
      "7 found at index 3\n"
     ]
    }
   ],
   "source": [
    "def binSearch2(A, k):\n",
    "    return binSearchRecursive(A, k, 0, len(A) - 1)\n",
    "\n",
    "def binSearchRecursive(A, k, low, high):\n",
    "    if low > high:\n",
    "        return -1\n",
    "    \n",
    "    mid = (low + high) // 2\n",
    "    \n",
    "    if A[mid] == k:\n",
    "        return mid\n",
    "    \n",
    "    elif A[mid] > k:\n",
    "        return binSearchRecursive(A, k, low, mid - 1)\n",
    "    \n",
    "    else:\n",
    "        return binSearchRecursive(A, k, mid + 1, high)\n",
    "\n",
    "A = [1, 3, 5, 7, 9, 11, 13, 15, 17]\n",
    "k = 7\n",
    "result = binSearch2(A, k)\n",
    "\n",
    "if result != -1:\n",
    "    print(f\"{k} found at index {result}\")\n",
    "else:\n",
    "    print(f\"{k} not found in the array.\")"
   ]
  },
  {
   "cell_type": "markdown",
   "metadata": {},
   "source": [
    "## Question 5\n",
    "\n",
    "Using your solution to Question 5 from Lab 3, compare the four sorting functions we saw\n",
    "(selection, insertion, merge and quick sort) using random arrays and fill in the table below.\n",
    "For each array length, produce 5 random arrays to test the sorting functions and fill in the\n",
    "corresponding cell the average running time (in seconds) for each function. You can copy\n",
    "and paste the sorting code from the lecture slides.\n",
    "\n",
    "| array length              | 10       | 100      | 1000     | 10<sup>4</sup> | 10<sup>5</sup> |\n",
    "| :------------------------ | -------- | -------- | -------- | -------------- | -------------- |\n",
    "| selection sort time (sec) | 0.000001 | 0.000004 | 0.000320 | 0.033058       | 3.201573       |\n",
    "| insertion sort time (sec) | 0.000001 | 000004   | 0.000246 | 0.019197       | 1.945874       |\n",
    "| merge sort time (sec)     | 0.000001 | 000006   | 0.000268 | 0.005206       | 0.058653       |\n",
    "| quicksort time (sec)      | 0.000001 | 000011   | 0.000169 | 0.008343       | 0.083097       |\n"
   ]
  },
  {
   "cell_type": "code",
   "execution_count": 7,
   "metadata": {},
   "outputs": [
    {
     "name": "stdout",
     "output_type": "stream",
     "text": [
      "Array Length Selection Sort  Insertion Sort  Merge Sort      Quick Sort     \n",
      "10           0.000006        0.000004        0.000011        0.000005       \n",
      "100          0.000216        0.000175        0.000157        0.000067       \n",
      "1000         0.021430        0.017532        0.001792        0.000902       \n",
      "10000        2.089805        1.785887        0.023983        0.012923       \n"
     ]
    }
   ],
   "source": [
    "import time\n",
    "import random\n",
    "def insertionSort(A): \n",
    "    B = A.copy()\n",
    "    for i in range(1, len(B)): insert(B[i], B, i)\n",
    "    return B\n",
    "def insert(v, B, hi):\n",
    "    for i in range(hi - 1, -1, -1):\n",
    "        if v >= B[i]:\n",
    "            B[i + 1] = v\n",
    "            return \n",
    "        B[i + 1] = B[i]\n",
    "    B[0] = v\n",
    "    \n",
    "def selectionSort(A):\n",
    "    B = A.copy()\n",
    "    for i in range(len(B)):\n",
    "        imin = findMin(i, B)\n",
    "        swap(i, imin, B)\n",
    "    return B\n",
    "\n",
    "def findMin(i, B):\n",
    "    imin = i\n",
    "    for j in range(i + 1, len(B)):\n",
    "        if B[j] < B[imin]:\n",
    "            imin = j\n",
    "    return imin\n",
    "\n",
    "def swap(i, j, B):\n",
    "    tmp = B[i]\n",
    "    B[i] = B[j]\n",
    "    B[j] = tmp\n",
    "\n",
    "def mergeSort(A):\n",
    "    if len(A) > 1:\n",
    "        mid = len(A) // 2\n",
    "        L = A[:mid]\n",
    "        R = A[mid:]\n",
    "        mergeSort(L)\n",
    "        mergeSort(R)\n",
    "        i=j=k=0\n",
    "        \n",
    "        while i < len(L) and j < len(R):\n",
    "            if L[i] < R[j]:\n",
    "                A[k] = L[i]\n",
    "                i += 1\n",
    "            else:\n",
    "                A[k] = R[j]\n",
    "                j += 1\n",
    "            k += 1\n",
    "        while i < len(L):\n",
    "            A[k] = L[i]\n",
    "            i += 1\n",
    "            k += 1\n",
    "        while j < len(R):\n",
    "            A[k] = R[j]\n",
    "            j += 1\n",
    "            k += 1\n",
    "    return A\n",
    "\n",
    "def partition(A, low, high):\n",
    "    i = low - 1\n",
    "    pivot = A[high]\n",
    "    for j in range(low, high):\n",
    "        if A[j] < pivot:\n",
    "            i += 1\n",
    "            A[i], A[j] = A[j], A[i]\n",
    "            A[i + 1], A[high] = A[high], A[i + 1]\n",
    "    return i + 1\n",
    "\n",
    "def quickSort(A):\n",
    "    if len(A) <= 1:\n",
    "        return A\n",
    "    pivot = A[0]\n",
    "    left = []\n",
    "    right = []\n",
    "    for item in A[1:]:\n",
    "        if item < pivot:\n",
    "            left.append(item)\n",
    "        else:\n",
    "            right.append(item)\n",
    "    return quickSort(left) + [pivot] + quickSort(right)\n",
    "def generate_random_array(length):\n",
    "    return [random.randint(1, 1000) for _ in range(length)]\n",
    "def measure_average_time(sort_func, array_length, num_trials=5):\n",
    "    total_time = 0\n",
    "    for _ in range(num_trials):\n",
    "        arr = generate_random_array(array_length)\n",
    "        start_time = time.time()\n",
    "        sorted_arr = sort_func(arr)\n",
    "        end_time = time.time()\n",
    "        total_time += end_time - start_time\n",
    "    return total_time / num_trials\n",
    "\n",
    "array_lengths = [10, 100, 1000, 10000]\n",
    "results = {\n",
    "    \"Selection Sort\": [],\n",
    "    \"Insertion Sort\": [],\n",
    "    \"Merge Sort\": [],\n",
    "    \"Quick Sort\": []\n",
    "}\n",
    "for length in array_lengths:\n",
    "    results[\"Selection Sort\"].append(measure_average_time(selectionSort,length))\n",
    "    results[\"Insertion Sort\"].append(measure_average_time(insertionSort,length))\n",
    "    results[\"Merge Sort\"].append(measure_average_time(mergeSort, length))\n",
    "    results[\"Quick Sort\"].append(measure_average_time(quickSort, length))\n",
    "print(f\"{'Array Length':<12} {'Selection Sort':<15} {'Insertion Sort':<15} {'Merge Sort':<15} {'Quick Sort':<15}\")\n",
    "for i, length in enumerate(array_lengths):\n",
    "    selection_time = results[\"Selection Sort\"][i]\n",
    "    insertion_time = results[\"Insertion Sort\"][i]\n",
    "    merge_time = results[\"Merge Sort\"][i]\n",
    "    quick_time = results[\"Quick Sort\"][i]\n",
    "    print(f\"{length:<12} {selection_time:<15.6f} {insertion_time:<15.6f} {merge_time:<15.6f} {quick_time:<15.6f}\")"
   ]
  },
  {
   "cell_type": "markdown",
   "metadata": {},
   "source": [
    "## Question 6\n",
    "\n",
    "Consider this `Script` class:\n",
    "    \n",
    "    class Script:\n",
    "        def __init__(self, sid, mark):\n",
    "            self.sid = sid\n",
    "            self.mark = mark\n",
    "        \n",
    "        def __str__(self):\n",
    "            return \"Script\"+str((self.sid,self.mark))    \n",
    "\n",
    "Using recursion, write a Python function\n",
    "\n",
    "    def filter(A,f)\n",
    "    \n",
    "which takes an array `A` of `Script` objects and a function `f` that takes a `Script` as input and returns a boolean. We call such a function a _filter_ as it allows us to filter `A` as follows. `filter(A,f)` should return a new array of `Script`'s\n",
    "which consists of those `Script`'s in `A` who \"pass\" the filter `f`, that is, when `f` is applied to those `Script`'s it returns `True`. The order of elements in the new array should be the same as in `A` (excluding filtered-out elements).\n",
    "\n",
    "For example, the following code (see also Question 3)\n",
    "\n",
    "    def passes(s):\n",
    "        return s.mark>=40\n",
    "\n",
    "    A = [Script(0,0), Script(1000,57), Script(2000,63), Script(3000,34), Script(4000,79), Script(5000,22), Script(6000,17), Script(7000,40), Script(8000,39), Script(9000,96)]\n",
    "    printArray(filter(A,passes))\n",
    "\n",
    "should return\n",
    "\n",
    "    Script(1000, 57)\n",
    "    Script(2000, 63)\n",
    "    Script(4000, 79)\n",
    "    Script(7000, 40)\n",
    "    Script(9000, 96)\n",
    "\n",
    "You can use the `append` method we defined in earlier weeks (even if not recursive)."
   ]
  },
  {
   "cell_type": "code",
   "execution_count": 8,
   "metadata": {},
   "outputs": [
    {
     "name": "stdout",
     "output_type": "stream",
     "text": [
      "Script(1000, 57)\n",
      "Script(2000, 63)\n",
      "Script(4000, 79)\n",
      "Script(7000, 40)\n",
      "Script(9000, 96)\n"
     ]
    }
   ],
   "source": [
    "class Script:\n",
    "    def __init__(self, sid, mark):\n",
    "        self.sid = sid\n",
    "        self.mark = mark\n",
    "\n",
    "    def __str__(self):\n",
    "        return \"Script\" + str((self.sid, self.mark))\n",
    "\n",
    "def filter(A, f):\n",
    "    if not A:\n",
    "        return []\n",
    "\n",
    "    if f(A[0]):\n",
    "        return [A[0]] + filter(A[1:], f)\n",
    "    else:\n",
    "        return filter(A[1:], f)\n",
    "\n",
    "def printArray(A):\n",
    "    for script in A:\n",
    "        print(script)\n",
    "\n",
    "def passes(s):\n",
    "    return s.mark >= 40\n",
    "\n",
    "A = [Script(0, 0), Script(1000, 57), Script(2000, 63), Script(3000, 34), Script(4000, 79),\n",
    "     Script(5000, 22), Script(6000, 17), Script(7000, 40), Script(8000, 39), Script(9000, 96)]\n",
    "\n",
    "filtered_scripts = filter(A, passes)\n",
    "printArray(filtered_scripts)"
   ]
  },
  {
   "cell_type": "markdown",
   "metadata": {},
   "source": [
    "## Question 7\n",
    "\n",
    "Write a Python function\n",
    "\n",
    "    def isSubArray(A,B)\n",
    "    \n",
    "which takes two arrays and returns `True` if the first array is a (contiguous) subarray of the\n",
    "second array, otherwise it returns `False`. You may solve this problem using recursion or\n",
    "iteration or a mixture of recursion and iteration.\n",
    "\n",
    "For an array to be a subarray of another, it must occur entirely within the other one without\n",
    "other elements in between. For example:\n",
    "- `[31,7,25]` is a subarray of `[10,20,26,31,7,25,40,9]`\n",
    "- `[26,31,25,40]` is not a subarray of `[10,20,26,31,7,25,40,9]`\n",
    "\n",
    "_Hint_: A good way of solving this problem is to make use of an auxiliary function that takes\n",
    "two arrays and returns True if the contents of the first array occur at the front of the second\n",
    "array, otherwise it returns False. Then, A is a subarray of B if it occurs at the front of B, or at the front of B[1:], or at the front of B[2:], etc. Note you should not use A == B for arrays."
   ]
  },
  {
   "cell_type": "code",
   "execution_count": 3,
   "metadata": {},
   "outputs": [
    {
     "name": "stdout",
     "output_type": "stream",
     "text": [
      "True\n",
      "False\n"
     ]
    }
   ],
   "source": [
    "def isSubArray(A, B): \n",
    "    def isFrontOf(A, B):\n",
    "        if not A: \n",
    "            return True\n",
    "        if not B or A[0] != B[0]:\n",
    "            return False\n",
    "        return isFrontOf(A[1:], B[1:])\n",
    "    if not A:\n",
    "        return True\n",
    "    if not B:\n",
    "        return False\n",
    "    return isFrontOf(A, B) or isSubArray(A, B[1:])\n",
    "\n",
    "A = [31, 7, 25]\n",
    "B = [10, 20, 26, 31, 7, 25, 40, 9]\n",
    "result = isSubArray(A, B)\n",
    "print(result)\n",
    "\n",
    "A = [26, 31, 25, 40]\n",
    "B = [10, 20, 26, 31, 7, 25, 40, 9]\n",
    "result = isSubArray(A, B)\n",
    "print(result)\n"
   ]
  }
 ],
 "metadata": {
  "kernelspec": {
   "display_name": "Python 3 (ipykernel)",
   "language": "python",
   "name": "python3"
  },
  "language_info": {
   "codemirror_mode": {
    "name": "ipython",
    "version": 3
   },
   "file_extension": ".py",
   "mimetype": "text/x-python",
   "name": "python",
   "nbconvert_exporter": "python",
   "pygments_lexer": "ipython3",
   "version": "3.9.6"
  }
 },
 "nbformat": 4,
 "nbformat_minor": 2
}
